{
 "cells": [
  {
   "cell_type": "code",
   "execution_count": null,
   "id": "469a5181",
   "metadata": {},
   "outputs": [],
   "source": [
    "H={}\n",
    "adjlst={}\n",
    "lst=[]\n",
    "num=int(input(\"Enter No. of locations: \"))\n",
    "\n",
    "for i in range(num):\n",
    "    vertex=input(\"Enter city: \")\n",
    "    H[vertex]=int(input(f\"Enter heuristic value of {vertex}: \"))\n",
    "    con_loc=int(input(f\"Enter no. of connected locations to {vertex}: \"))\n",
    "    for y in range(con_loc):\n",
    "        ver=input(f\"Enter vertex connected to {vertex}: \")\n",
    "        dis=int(input(f\"Enter distance from {vertex} to {ver}: \"))\n",
    "        lst.append((ver,dis))\n",
    "    if len(lst)>0:\n",
    "        adjlst[vertex]=lst\n",
    "    lst=[]\n",
    "    print(\"\\n\")\n",
    "    \n",
    "print(H)\n",
    "print(adjlst)\n",
    "    "
   ]
  },
  {
   "cell_type": "code",
   "execution_count": null,
   "id": "c88d97a4",
   "metadata": {},
   "outputs": [],
   "source": [
    "def heuristic(n):\n",
    "    return H[n]\n",
    "\n",
    "def neighbor(n):\n",
    "    return adjlst[n]\n",
    "\n",
    "print(f\"Heuristic value of A is : {heuristic('A')}\")\n",
    "print(neighbor('A'))"
   ]
  },
  {
   "cell_type": "code",
   "execution_count": null,
   "id": "f8738d56",
   "metadata": {},
   "outputs": [],
   "source": [
    "def a_star(start,stop):\n",
    "    open_lst=set([start])\n",
    "    closed_lst=set([])\n",
    "    G={}\n",
    "    G[start]=0\n",
    "    par={}\n",
    "    par[start]=start\n",
    "    \n",
    "    while len(open_lst)>0:\n",
    "        n=None\n",
    "        \n",
    "        for v in open_lst:\n",
    "            if n==None or G[v]+heuristic(v)<G[n]+heuristic(n):\n",
    "                n=v\n",
    "        \n",
    "        if n==None:\n",
    "            print(\"Path does not exist\")\n",
    "            return\n",
    "        \n",
    "        if n==stop:\n",
    "            path=[]\n",
    "            while par[n]!=n:\n",
    "                path.append(n)\n",
    "                n=par[n]\n",
    "            path.append(start)\n",
    "            path.reverse()\n",
    "            print(\"path found: \", format(path))\n",
    "            return path\n",
    "        \n",
    "        for (m,dis) in neighbor(n):\n",
    "            if m not in open_lst and m not in closed_lst:\n",
    "                open_lst.add(m)\n",
    "                par[m]=n\n",
    "                G[m]=G[n]+dis\n",
    "                \n",
    "            else:\n",
    "                if G[m]>G[n]+dis:\n",
    "                    G[m]=G[n]+dis\n",
    "                    par[m]=n\n",
    "                    \n",
    "                    if m in closed_lst:\n",
    "                        closed_lst.remove(m)\n",
    "                        open_lst.add(m)\n",
    "        print(G)\n",
    "        open_lst.remove(n)\n",
    "        closed_lst.add(n)\n",
    "    \n",
    "    print(\"Path not found\")\n",
    "    return None\n",
    "                    \n",
    "                    \n",
    "        "
   ]
  },
  {
   "cell_type": "code",
   "execution_count": null,
   "id": "b2d16bcd",
   "metadata": {},
   "outputs": [],
   "source": [
    "start=input(\"Enter start city\")\n",
    "goal=input(\"Enter goal city\")\n",
    "\n",
    "a_star(start,goal)\n",
    "\n",
    "\n",
    "\n"
   ]
  },
  {
   "cell_type": "code",
   "execution_count": null,
   "id": "14f69b80",
   "metadata": {},
   "outputs": [],
   "source": []
  }
 ],
 "metadata": {
  "kernelspec": {
   "display_name": "Python 3 (ipykernel)",
   "language": "python",
   "name": "python3"
  },
  "language_info": {
   "codemirror_mode": {
    "name": "ipython",
    "version": 3
   },
   "file_extension": ".py",
   "mimetype": "text/x-python",
   "name": "python",
   "nbconvert_exporter": "python",
   "pygments_lexer": "ipython3",
   "version": "3.12.1"
  }
 },
 "nbformat": 4,
 "nbformat_minor": 5
}
