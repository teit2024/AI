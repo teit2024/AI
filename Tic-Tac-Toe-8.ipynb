{
 "cells": [
  {
   "cell_type": "code",
   "execution_count": 4,
   "id": "9e4d180e",
   "metadata": {},
   "outputs": [],
   "source": [
    "def board():\n",
    "    print(\"tic-tac-toe\")\n",
    "    print(square[0],\" \",square[1],\" \",square[2],\"\\n\")\n",
    "    print(square[3],\" \",square[4],\" \",square[5],\"\\n\")\n",
    "    print(square[6],\" \",square[7],\" \",square[8],\"\\n\")"
   ]
  },
  {
   "cell_type": "code",
   "execution_count": 5,
   "id": "d775b520",
   "metadata": {},
   "outputs": [],
   "source": [
    "def checkwin():\n",
    "    res=0\n",
    "    if((square[0]==square[1])&(square[1]==square[2])):\n",
    "        res=1\n",
    "    elif((square[3]==square[4])&(square[4]==square[5])):\n",
    "        res=1\n",
    "    elif((square[6]==square[7])&(square[7]==square[8])):\n",
    "        res=1\n",
    "    elif((square[0]==square[3])&(square[3]==square[6])):\n",
    "        res=1\n",
    "    elif((square[1]==square[4])&(square[4]==square[7])):\n",
    "        res=1\n",
    "    elif((square[2]==square[5])&(square[5]==square[8])):\n",
    "        res=1\n",
    "    elif((square[0]==square[4])&(square[4]==square[8])):\n",
    "        res=1\n",
    "    elif((square[2]==square[4])&(square[4]==square[6])):\n",
    "        res=1\n",
    "    elif((square[0]!='0')&(square[1]!='1')&(square[2]!='2')&(square[3]!='3')&(square[4]!='4')&(square[5]!='5')&(square[6]!='6')&(square[7]!='7')&(square[8]!='8')):\n",
    "        res=0\n",
    "    else:\n",
    "        res=-1\n",
    "    return res"
   ]
  },
  {
   "cell_type": "code",
   "execution_count": 6,
   "id": "96b0ee4b",
   "metadata": {},
   "outputs": [
    {
     "name": "stdout",
     "output_type": "stream",
     "text": [
      "tic-tac-toe\n",
      "0   1   2 \n",
      "\n",
      "3   4   5 \n",
      "\n",
      "6   7   8 \n",
      "\n",
      "player number 1\n"
     ]
    }
   ],
   "source": [
    "square=['0','1','2','3','4','5','6','7','8']\n",
    "player=1\n",
    "choice=0\n",
    "i=0\n",
    "flag=0\n",
    "mark='x'\n",
    "board();\n",
    "while(flag==0):\n",
    "    print(\"player number\",player)\n",
    "    choice=int(input(\"enter the number\"))\n",
    "    print()\n",
    "    if(player==1):\n",
    "        mark='x'\n",
    "    else:\n",
    "        mark='o'\n",
    "    if((choice==0)&(square[0]=='0')):\n",
    "        square[0]=mark\n",
    "    elif((choice==1)&(square[1]=='1')):\n",
    "        square[1]=mark\n",
    "    elif((choice==2)&(square[2]=='2')):\n",
    "        square[2]=mark\n",
    "    elif((choice==3)&(square[3]=='3')):\n",
    "        square[3]=mark\n",
    "    elif((choice==4)&(square[4]=='4')):\n",
    "        square[4]=mark\n",
    "    elif((choice==5)&(square[5]=='5')):\n",
    "        square[5]=mark\n",
    "    elif((choice==6)&(square[6]=='6')):\n",
    "        square[6]=mark\n",
    "    elif((choice==7)&(square[7]=='7')):\n",
    "        square[7]=mark\n",
    "    elif((choice==8)&(square[8]=='8')):\n",
    "        square[8]=mark\n",
    "    elif(choice>8 or choice<0):\n",
    "        print(\"invalid choice\")\n",
    "    board();\n",
    "    i=checkwin();\n",
    "    print(i)\n",
    "    if(i==1):\n",
    "        flag=1\n",
    "        break\n",
    "    elif(i==0):\n",
    "        flag=1\n",
    "        break\n",
    "    elif(i==-1):\n",
    "        flag=0\n",
    "    if(player==2):\n",
    "        player=1\n",
    "    else:\n",
    "        player=2\n",
    "board();\n",
    "if(i==1):\n",
    "    print(\"player\",player,\"winnnnnn\")\n",
    "elif(i==0):\n",
    "    print(\"game draw\")"
   ]
  },
  {
   "cell_type": "code",
   "execution_count": null,
   "id": "ff0460a5",
   "metadata": {},
   "outputs": [],
   "source": []
  }
 ],
 "metadata": {
  "kernelspec": {
   "display_name": "Python 3 (ipykernel)",
   "language": "python",
   "name": "python3"
  },
  "language_info": {
   "codemirror_mode": {
    "name": "ipython",
    "version": 3
   },
   "file_extension": ".py",
   "mimetype": "text/x-python",
   "name": "python",
   "nbconvert_exporter": "python",
   "pygments_lexer": "ipython3",
   "version": "3.12.1"
  }
 },
 "nbformat": 4,
 "nbformat_minor": 5
}
