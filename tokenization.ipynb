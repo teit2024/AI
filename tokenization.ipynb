{
 "cells": [
  {
   "cell_type": "code",
   "execution_count": null,
   "id": "797519fc",
   "metadata": {},
   "outputs": [],
   "source": [
    "import nltk"
   ]
  },
  {
   "cell_type": "code",
   "execution_count": null,
   "id": "dc62395f",
   "metadata": {},
   "outputs": [],
   "source": [
    "print(\"Tokenization\")\n",
    "nltk.download('punkt')\n"
   ]
  },
  {
   "cell_type": "code",
   "execution_count": null,
   "id": "e1f85f13",
   "metadata": {},
   "outputs": [],
   "source": [
    "from nltk import word_tokenize,sent_tokenize\n",
    "sent=\"Natural language processing (NLP) is a branch of artificial intelligence (AI) that enables computers to comprehend, generate, and manipulate human language. Natural language processing has the ability to interrogate the data with natural language text or voice.\"\n",
    "print(word_tokenize(sent))\n",
    "print(sent_tokenize(sent))\n"
   ]
  },
  {
   "cell_type": "code",
   "execution_count": null,
   "id": "50c5db97",
   "metadata": {},
   "outputs": [],
   "source": [
    "from nltk.tokenize import WordPunctTokenizer\n",
    "txt=\"Natural language processing (NLP) is a branch of artificial intelligence (AI) that enables computers to comprehend, generate, and manipulate human language. Natural language processing has the ability to interrogate the data with natural language text or voice.\"\n",
    "tokenizer = WordPunctTokenizer()\n",
    "tokenizer.tokenize(txt)\n"
   ]
  },
  {
   "cell_type": "code",
   "execution_count": null,
   "id": "50b48d24",
   "metadata": {},
   "outputs": [],
   "source": [
    "#stop-words\n",
    "nltk.download('stopwords')"
   ]
  },
  {
   "cell_type": "code",
   "execution_count": null,
   "id": "b78f0b67",
   "metadata": {},
   "outputs": [],
   "source": [
    "from nltk.corpus import stopwords\n",
    "stop_words=stopwords.words('english')"
   ]
  },
  {
   "cell_type": "code",
   "execution_count": null,
   "id": "de279799",
   "metadata": {},
   "outputs": [],
   "source": [
    "token=word_tokenize(sent)\n",
    "cleaned_token=[]\n",
    "for word in token:\n",
    "    if word not in stop_words:\n",
    "        cleaned_token.append(word)\n",
    "print(\"uncleaned\",token)\n",
    "print(\"cleaned\",cleaned_token)\n"
   ]
  },
  {
   "cell_type": "code",
   "execution_count": null,
   "id": "211201e1",
   "metadata": {},
   "outputs": [],
   "source": [
    "#pos\n",
    "nltk.download(\"averaged_perceptron_tagger\")"
   ]
  },
  {
   "cell_type": "code",
   "execution_count": null,
   "id": "34b1173a",
   "metadata": {},
   "outputs": [],
   "source": [
    "from nltk import pos_tag, word_tokenize\n",
    "\n",
    "txt = \"from nltk import word_tokenize,sent_tokenize Natural language processing (NLP) is a branch of artificial intelligence (AI) that enables computers to comprehend, generate, and manipulate human language. Natural language processing has the ability to interrogate the data with natural language text or voice.\"\n",
    "\n",
    "print(\"Original text:\", txt)\n",
    "tokens = word_tokenize(txt)\n",
    "print(\"After tokenization:\", tokens)\n",
    "\n",
    "# Perform Part-of-Speech tagging on the tokenized words\n",
    "tokens_tag = pos_tag(tokens)\n",
    "\n",
    "print(\"\\nAfter POS tagging:\", tokens_tag)\n"
   ]
  },
  {
   "cell_type": "code",
   "execution_count": null,
   "id": "e6f7b989",
   "metadata": {},
   "outputs": [],
   "source": [
    "#count word frequency\n",
    "from collections import Counter\n",
    "tokens = word_tokenize(txt)\n",
    "word_freq = Counter(tokens)\n",
    "print(\"Word Frequencies:\")\n",
    "for word, freq in word_freq.items():\n",
    "    print(f\"{word}: {freq}\")\n"
   ]
  },
  {
   "cell_type": "code",
   "execution_count": null,
   "id": "5fa69e69",
   "metadata": {},
   "outputs": [],
   "source": []
  }
 ],
 "metadata": {
  "kernelspec": {
   "display_name": "Python 3 (ipykernel)",
   "language": "python",
   "name": "python3"
  },
  "language_info": {
   "codemirror_mode": {
    "name": "ipython",
    "version": 3
   },
   "file_extension": ".py",
   "mimetype": "text/x-python",
   "name": "python",
   "nbconvert_exporter": "python",
   "pygments_lexer": "ipython3",
   "version": "3.11.5"
  }
 },
 "nbformat": 4,
 "nbformat_minor": 5
}
