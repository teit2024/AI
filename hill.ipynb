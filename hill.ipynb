{
 "cells": [
  {
   "cell_type": "code",
   "execution_count": null,
   "metadata": {},
   "outputs": [],
   "source": [
    "def clash(brd):\n",
    "    board=[]\n",
    "    for i in range(n):\n",
    "        board.append((brd[i],i))\n",
    "\n",
    "    cnt=0\n",
    "    for i in range(n-1):\n",
    "        val=board[i]\n",
    "        for j in range(i+1,n):\n",
    "            val1=board[j]\n",
    "            if(abs(val[0]-val1[0])==abs(val[1]-val1[1])):\n",
    "                cnt+=1\n",
    "            if(val[0]==val1[0]):\n",
    "                cnt+=1\n",
    "    \n",
    "    return cnt"
   ]
  },
  {
   "cell_type": "code",
   "execution_count": null,
   "metadata": {},
   "outputs": [],
   "source": [
    "brd = [0,1,2,1]\n",
    "n=4\n",
    "clash(brd)"
   ]
  },
  {
   "cell_type": "code",
   "execution_count": null,
   "metadata": {},
   "outputs": [],
   "source": [
    "def succ_find(pos):\n",
    "    positions.clear()\n",
    "    lst=[]\n",
    "    for i in range(n):\n",
    "        for j in range(n):\n",
    "            if(pos[i]!=j):\n",
    "                lst=pos.copy()\n",
    "                lst[i]=j\n",
    "                lst=list(lst)\n",
    "                positions.append(lst)\n",
    "    \n",
    "    for p in positions:\n",
    "        print(p,clash(p))\n",
    "    print(\"\\n\\n\\n\")\n",
    "    return positions"
   ]
  },
  {
   "cell_type": "code",
   "execution_count": null,
   "metadata": {},
   "outputs": [],
   "source": [
    "pos=[1,2,3,1]\n",
    "n=4\n",
    "positions=[]\n",
    "print(\"successor value: \")\n",
    "posi=succ_find(pos)"
   ]
  },
  {
   "cell_type": "code",
   "execution_count": null,
   "metadata": {},
   "outputs": [],
   "source": [
    "\n",
    "n = int(input(\"Enter value of n: \"))\n",
    "pos_init=[]\n",
    "for i in range(n):\n",
    "    print(\"Enter row for\",i,\"th queen\")\n",
    "    pos_init.append(int(input()))\n",
    "\n",
    "h=clash(pos_init)\n",
    "print(h)\n",
    "old_h=99\n",
    "pos=pos_init.copy()\n",
    "\n",
    "\n",
    "while(old_h>h):\n",
    "    positions=[]\n",
    "\n",
    "    positions=succ_find(pos)\n",
    "    min=99\n",
    "    m_lst=[]\n",
    "\n",
    "    for lst in positions:\n",
    "        m_val=clash(lst)\n",
    "        if(m_val<min):\n",
    "            min=m_val\n",
    "            m_lst=lst.copy()\n",
    "    old_h=h\n",
    "    h=min\n",
    "    pos=m_lst.copy()\n",
    "    print(\"\\t\\t\",h,pos)\n",
    "    print(\"\\n\")\n",
    "    if(h==0):\n",
    "        break\n",
    "\n",
    "if(h==0):\n",
    "    print(\"Solution to the problem is: \")\n",
    "    print(h)\n",
    "    print(pos)\n",
    "    \n",
    "else:\n",
    "    print(\"No solution found\")"
   ]
  },
  {
   "cell_type": "code",
   "execution_count": null,
   "metadata": {},
   "outputs": [],
   "source": []
  }
 ],
 "metadata": {
  "kernelspec": {
   "display_name": "Python 3 (ipykernel)",
   "language": "python",
   "name": "python3"
  },
  "language_info": {
   "codemirror_mode": {
    "name": "ipython",
    "version": 3
   },
   "file_extension": ".py",
   "mimetype": "text/x-python",
   "name": "python",
   "nbconvert_exporter": "python",
   "pygments_lexer": "ipython3",
   "version": "3.12.1"
  }
 },
 "nbformat": 4,
 "nbformat_minor": 2
}
